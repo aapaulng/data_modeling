{
 "cells": [
  {
   "cell_type": "markdown",
   "metadata": {},
   "source": [
    "# Regularization"
   ]
  },
  {
   "cell_type": "markdown",
   "metadata": {},
   "source": [
    "- Avoid overfitting by penalizing high-valued regression coefficients. \n",
    "- reduces parameters and shrinks (simplifies) the model.\n",
    "- L1 regularization adds an L1 penalty equal to the absolute value of the magnitude of coefficients (Lasso). Yield sparsity (Alot 0, a few value). \n",
    "- L2 regularization adds an L2 penalty equal to the square of the magnitude of coefficients (Ridge)"
   ]
  },
  {
   "cell_type": "markdown",
   "metadata": {},
   "source": []
  },
  {
   "cell_type": "code",
   "execution_count": 34,
   "metadata": {},
   "outputs": [],
   "source": [
    "import pandas as pd\n",
    "import matplotlib.pyplot as plt\n",
    "from sklearn import datasets\n",
    "from sklearn.model_selection import train_test_split\n",
    "from sklearn.preprocessing import MinMaxScaler, PolynomialFeatures\n",
    "from sklearn.linear_model import Ridge, Lasso, LinearRegression\n",
    "from sklearn.pipeline import Pipeline\n",
    "plt.style.use('ggplot')\n",
    "%matplotlib inline"
   ]
  },
  {
   "cell_type": "code",
   "execution_count": 18,
   "metadata": {},
   "outputs": [],
   "source": [
    "boston = datasets.load_boston()\n",
    "\n",
    "X_pre = boston.data\n",
    "y = boston.target"
   ]
  },
  {
   "cell_type": "markdown",
   "metadata": {},
   "source": [
    "### First without regularization. I add polynomial feature to make the score worse"
   ]
  },
  {
   "cell_type": "code",
   "execution_count": 20,
   "metadata": {},
   "outputs": [],
   "source": [
    "# Add polynomail feature to make the score lower, \n",
    "# so that i can then use regularization show better result\n",
    "poly = PolynomialFeatures(degree=2, include_bias=False)\n",
    "scal = MinMaxScaler()\n",
    "pipe = Pipeline([('scal',scal),('poly',poly)])\n",
    "X = pipe.fit_transform(X_pre)"
   ]
  },
  {
   "cell_type": "code",
   "execution_count": 26,
   "metadata": {},
   "outputs": [
    {
     "data": {
      "text/plain": [
       "0.60577548929356673"
      ]
     },
     "execution_count": 26,
     "metadata": {},
     "output_type": "execute_result"
    }
   ],
   "source": [
    "lr = LinearRegression()\n",
    "X_train, X_test, y_train, y_test = train_test_split(X,y, random_state=0)\n",
    "lr.fit(X_train,y_train)\n",
    "lr.score(X_test,y_test)"
   ]
  },
  {
   "cell_type": "markdown",
   "metadata": {},
   "source": [
    "### L2 norm (ridge)\n",
    "\n",
    "![](https://sebastianraschka.com/images/faq/regularized-logistic-regression-performance/regularized.png)"
   ]
  },
  {
   "cell_type": "code",
   "execution_count": 29,
   "metadata": {},
   "outputs": [
    {
     "name": "stdout",
     "output_type": "stream",
     "text": [
      "train 0.88605785604\n",
      "test 0.752713960031\n"
     ]
    }
   ],
   "source": [
    "# Better result. Change alpha to control how tight you want it to be\n",
    "ridge = Ridge(alpha=1.0)\n",
    "ridge.fit(X_train, y_train)\n",
    "print('train',ridge.score(X_train, y_train))\n",
    "print('test',ridge.score(X_test,y_test))"
   ]
  },
  {
   "cell_type": "markdown",
   "metadata": {},
   "source": [
    "### Now lets draw a graph to show how the coef of your attribute changes when alpha changes"
   ]
  },
  {
   "cell_type": "code",
   "execution_count": 38,
   "metadata": {},
   "outputs": [
    {
     "data": {
      "text/plain": [
       "<matplotlib.legend.Legend at 0x7f4f5a385e10>"
      ]
     },
     "execution_count": 38,
     "metadata": {},
     "output_type": "execute_result"
    },
    {
     "data": {
      "image/png": "[encoded data removed]",
      "text/plain": [
       "<matplotlib.figure.Figure at 0x7f4f59b03048>"
      ]
     },
     "metadata": {},
     "output_type": "display_data"
    }
   ],
   "source": [
    "#So if alpha increase, the magnitude of coef is all closer to zero. \n",
    "#Means more regularization being applied\n",
    "ridge = Ridge(alpha=1.0).fit(X_train,y_train)\n",
    "ridge10 = Ridge(alpha=10).fit(X_train,y_train)\n",
    "ridge01 = Ridge(alpha=0.1).fit(X_train,y_train)\n",
    "\n",
    "fig, ax = plt.subplots()\n",
    "ax.plot(ridge.coef_,'gs',label ='Alpha = 1.0')\n",
    "ax.plot(ridge10.coef_,'r^',label='Alpha = 10')\n",
    "ax.plot(ridge01.coef_,'bv',label='Alpha = 0.1')\n",
    "ax.plot(lr.coef_,'co',label='Linear Regression')\n",
    "ax.set_xlabel('Coefficient index')\n",
    "ax.set_ylabel('Coefficient magnitude')\n",
    "ax.set_ylim(-25,25)\n",
    "ax.legend(loc = 'upper right')"
   ]
  },
  {
   "cell_type": "markdown",
   "metadata": {},
   "source": [
    "### Lasso Regression (top one)\n",
    "\n",
    "![](https://i.stack.imgur.com/P7L3x.png)"
   ]
  },
  {
   "cell_type": "code",
   "execution_count": 46,
   "metadata": {},
   "outputs": [
    {
     "data": {
      "text/plain": [
       "0.63020094063248877"
      ]
     },
     "execution_count": 46,
     "metadata": {},
     "output_type": "execute_result"
    }
   ],
   "source": [
    "# Same theory. It creates sparsity.\n",
    "lass = Lasso(alpha=0.1)\n",
    "lass.fit(X_train, y_train)\n",
    "lass.score(X_test,y_test)"
   ]
  },
  {
   "cell_type": "code",
   "execution_count": 53,
   "metadata": {},
   "outputs": [
    {
     "name": "stdout",
     "output_type": "stream",
     "text": [
      "number of coef (104,)\n",
      "number of coef not equal to zero 8\n",
      "\n",
      " [ -0.           0.          -0.           0.          -0.           0.          -0.\n",
      "  -0.          -0.          -0.          -6.94791033   0.         -15.73526712\n",
      "  -0.           0.          -0.           0.          -0.          -0.          -0.\n",
      "  -0.          -0.          -0.          -0.          -0.          -0.           0.\n",
      "  -0.           0.           0.           0.           0.          -0.           0.\n",
      "  -0.          -0.           0.          -0.          -0.           0.          -0.\n",
      "  -0.          -0.          -0.          -0.          -0.          -0.          -0.\n",
      "  -0.           0.           0.           0.           0.           0.           0.\n",
      "   0.           0.           1.57250048   0.          -0.06794425  -0.          -0.\n",
      "  -0.          -0.          -0.          -0.          -0.          -0.\n",
      "  19.43341184  -0.          -0.          -0.          -5.13377204  -0.\n",
      "   5.34522643  -0.          -0.          -0.          -0.          -0.          -0.\n",
      "   0.          -0.45788656  -0.          -0.          -0.          -0.          -0.\n",
      "  -0.          -0.          -0.          -0.           0.          -0.          -0.\n",
      "  -0.          -0.          -0.          -0.          -0.          -0.           0.\n",
      "  -0.           0.        ]\n"
     ]
    }
   ],
   "source": [
    "# Many of the coef are now zeros\n",
    "print('number of coef',lass.coef_.shape)\n",
    "print('number of coef not equal to zero',(lass.coef_!=0).sum())\n",
    "print('\\n',lass.coef_)"
   ]
  },
  {
   "cell_type": "markdown",
   "metadata": {},
   "source": [
    "## Logistic Regression can be regularize too"
   ]
  },
  {
   "cell_type": "code",
   "execution_count": 59,
   "metadata": {},
   "outputs": [],
   "source": [
    "from sklearn.linear_model import LogisticRegression"
   ]
  },
  {
   "cell_type": "code",
   "execution_count": 57,
   "metadata": {},
   "outputs": [],
   "source": [
    "breast = datasets.load_breast_cancer()\n",
    "X_pre = breast.data\n",
    "y = breast.target"
   ]
  },
  {
   "cell_type": "code",
   "execution_count": 58,
   "metadata": {},
   "outputs": [],
   "source": [
    "X_train, X_test, y_train, y_test =  train_test_split(X_pre,y,random_state=42, stratify = y)"
   ]
  },
  {
   "cell_type": "code",
   "execution_count": 60,
   "metadata": {},
   "outputs": [
    {
     "name": "stdout",
     "output_type": "stream",
     "text": [
      "C=1.0, train 0.953051643192\n",
      "C=1.0, test 0.958041958042\n",
      "\n",
      "C=100.0, train 0.971830985915\n",
      "C=100.0, test 0.965034965035\n",
      "\n",
      "C=0.001, train 0.934272300469\n",
      "C=0.001, test 0.93006993007\n"
     ]
    }
   ],
   "source": [
    "log = LogisticRegression(penalty='l2',C=1.0)\n",
    "log100 = LogisticRegression(C=100)\n",
    "log001 = LogisticRegression(C=0.01)\n",
    "log.fit(X_train,y_train)\n",
    "log100.fit(X_train,y_train)\n",
    "log001.fit(X_train,y_train)\n",
    "\n",
    "print('C=1.0, train',log.score(X_train,y_train))\n",
    "print('C=1.0, test',log.score(X_test,y_test))\n",
    "print()\n",
    "print('C=100.0, train',log100.score(X_train,y_train))\n",
    "print('C=100.0, test',log100.score(X_test,y_test))\n",
    "print()\n",
    "print('C=0.001, train',log001.score(X_train,y_train))\n",
    "print('C=0.001, test',log001.score(X_test,y_test))"
   ]
  },
  {
   "cell_type": "code",
   "execution_count": 63,
   "metadata": {},
   "outputs": [
    {
     "data": {
      "image/png": "[encoded data removed]",
      "text/plain": [
       "<matplotlib.figure.Figure at 0x7f4f5a745588>"
      ]
     },
     "metadata": {},
     "output_type": "display_data"
    }
   ],
   "source": [
    "plt.plot(log.coef_.T, 'bo', label=\"C=1\")\n",
    "plt.plot(log100.coef_.T, 'r^', label=\"C=100\")\n",
    "plt.plot(log001.coef_.T, 'gv', label=\"C=0.01\")\n",
    "plt.xticks(range(breast.data.shape[1]), breast.feature_names, rotation=90)\n",
    "plt.hlines(0, 0, breast.data.shape[1])\n",
    "plt.ylim(-5, 5)\n",
    "plt.xlabel(\"Coefficient index\")\n",
    "plt.ylabel(\"Coefficient magnitude\")\n",
    "plt.legend()\n",
    "plt.show()"
   ]
  },
  {
   "cell_type": "code",
   "execution_count": null,
   "metadata": {},
   "outputs": [],
   "source": []
  },
  {
   "cell_type": "code",
   "execution_count": null,
   "metadata": {},
   "outputs": [],
   "source": []
  },
  {
   "cell_type": "code",
   "execution_count": null,
   "metadata": {},
   "outputs": [],
   "source": []
  },
  {
   "cell_type": "code",
   "execution_count": null,
   "metadata": {},
   "outputs": [],
   "source": []
  },
  {
   "cell_type": "code",
   "execution_count": null,
   "metadata": {},
   "outputs": [],
   "source": []
  },
  {
   "cell_type": "code",
   "execution_count": null,
   "metadata": {},
   "outputs": [],
   "source": []
  },
  {
   "cell_type": "code",
   "execution_count": null,
   "metadata": {},
   "outputs": [],
   "source": []
  },
  {
   "cell_type": "code",
   "execution_count": null,
   "metadata": {},
   "outputs": [],
   "source": []
  },
  {
   "cell_type": "code",
   "execution_count": null,
   "metadata": {},
   "outputs": [],
   "source": []
  },
  {
   "cell_type": "code",
   "execution_count": null,
   "metadata": {},
   "outputs": [],
   "source": []
  },
  {
   "cell_type": "code",
   "execution_count": null,
   "metadata": {},
   "outputs": [],
   "source": []
  },
  {
   "cell_type": "code",
   "execution_count": null,
   "metadata": {},
   "outputs": [],
   "source": []
  },
  {
   "cell_type": "code",
   "execution_count": null,
   "metadata": {},
   "outputs": [],
   "source": []
  },
  {
   "cell_type": "code",
   "execution_count": null,
   "metadata": {},
   "outputs": [],
   "source": []
  },
  {
   "cell_type": "code",
   "execution_count": null,
   "metadata": {},
   "outputs": [],
   "source": []
  },
  {
   "cell_type": "code",
   "execution_count": null,
   "metadata": {},
   "outputs": [],
   "source": []
  }
 ],
 "metadata": {
  "kernelspec": {
   "display_name": "Python 3",
   "language": "python",
   "name": "python3"
  },
  "language_info": {
   "codemirror_mode": {
    "name": "ipython",
    "version": 3
   },
   "file_extension": ".py",
   "mimetype": "text/x-python",
   "name": "python",
   "nbconvert_exporter": "python",
   "pygments_lexer": "ipython3",
   "version": "3.6.4"
  }
 },
 "nbformat": 4,
 "nbformat_minor": 2
}
