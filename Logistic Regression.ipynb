{
 "cells": [
  {
   "cell_type": "markdown",
   "metadata": {},
   "source": [
    "# Logistic Regression"
   ]
  },
  {
   "cell_type": "raw",
   "metadata": {},
   "source": [
    "Its a regression. y=mx+C. But it introduces (ln or exp) to calculate the probability of certain event. \n",
    "\n",
    "ln(p/[1-p]) = mx+C\n",
    "\n",
    "or\n",
    "\n",
    "p = exp(mx+c)/[exp(mx+c)+1] (also known as sigmoid function)\n",
    "\n",
    "\n",
    "Why use ln. Because exp(mx+C) will always larger or eq to 0\n",
    "Why use p/[1-p]. The value is always smaller than 1\n"
   ]
  },
  {
   "cell_type": "markdown",
   "metadata": {},
   "source": [
    "### Leaf classification"
   ]
  },
  {
   "cell_type": "code",
   "execution_count": 1,
   "metadata": {},
   "outputs": [],
   "source": [
    "import pandas as pd\n",
    "from matplotlib import pyplot as plt\n",
    "plt.style.use('seaborn')\n",
    "import sklearn "
   ]
  },
  {
   "cell_type": "code",
   "execution_count": 10,
   "metadata": {},
   "outputs": [],
   "source": [
    "train_pre = pd.read_csv('train.csv', index_col=0)\n",
    "test_pre= pd.read_csv('test.csv', index_col=0)"
   ]
  },
  {
   "cell_type": "code",
   "execution_count": 11,
   "metadata": {},
   "outputs": [
    {
     "name": "stdout",
     "output_type": "stream",
     "text": [
      "Index(['species', 'margin1', 'margin2', 'margin3', 'margin4', 'margin5',\n",
      "       'margin6', 'margin7', 'margin8', 'margin9',\n",
      "       ...\n",
      "       'texture55', 'texture56', 'texture57', 'texture58', 'texture59',\n",
      "       'texture60', 'texture61', 'texture62', 'texture63', 'texture64'],\n",
      "      dtype='object', length=193)\n",
      "Index(['margin1', 'margin2', 'margin3', 'margin4', 'margin5', 'margin6',\n",
      "       'margin7', 'margin8', 'margin9', 'margin10',\n",
      "       ...\n",
      "       'texture55', 'texture56', 'texture57', 'texture58', 'texture59',\n",
      "       'texture60', 'texture61', 'texture62', 'texture63', 'texture64'],\n",
      "      dtype='object', length=192)\n"
     ]
    }
   ],
   "source": [
    "print(train_pre.columns)\n",
    "print(test_pre.columns)"
   ]
  },
  {
   "cell_type": "code",
   "execution_count": null,
   "metadata": {},
   "outputs": [],
   "source": [
    "train_pre.drop()"
   ]
  },
  {
   "cell_type": "code",
   "execution_count": 58,
   "metadata": {},
   "outputs": [],
   "source": [
    "# Encoding each classes\n",
    "from sklearn.preprocessing import LabelEncoder\n",
    "from sklearn.model_selection import train_test_split\n",
    "def encode (train):\n",
    "    enc = LabelEncoder()\n",
    "    bar = train.drop(labels = 'species',axis=1)\n",
    "    X_train, X_val, y_train, y_val = train_test_split(bar,train['species'],stratify=train['species'])\n",
    "    enc.fit(y_train)\n",
    "    y_train = enc.transform(y_train)\n",
    "    y_val = enc.transform(y_val)\n",
    "    classes = list(enc.classes_)\n",
    "\n",
    "    return X_train, X_val, y_train, y_val, classes ,enc\n",
    "\n",
    "X_train, X_val, y_train, y_val, classes, enc = encode(train_pre)"
   ]
  },
  {
   "cell_type": "code",
   "execution_count": 34,
   "metadata": {},
   "outputs": [],
   "source": [
    "from sklearn.preprocessing import StandardScaler\n",
    "from sklearn.pipeline import Pipeline\n",
    "from sklearn.linear_model import LogisticRegression\n"
   ]
  },
  {
   "cell_type": "code",
   "execution_count": 53,
   "metadata": {},
   "outputs": [
    {
     "data": {
      "text/plain": [
       "0.97983870967741937"
      ]
     },
     "execution_count": 53,
     "metadata": {},
     "output_type": "execute_result"
    }
   ],
   "source": [
    "# Not bad for validation score\n",
    "scal = StandardScaler()\n",
    "log = LogisticRegression()\n",
    "pipe = Pipeline([('scalar',scal),('logistic',log)])\n",
    "\n",
    "pipe.fit(X_train, y_train)\n",
    "pipe.score(X_val, y_val)"
   ]
  },
  {
   "cell_type": "code",
   "execution_count": 60,
   "metadata": {},
   "outputs": [
    {
     "data": {
      "text/html": [
       "<div>\n",
       "<style scoped>\n",
       "    .dataframe tbody tr th:only-of-type {\n",
       "        vertical-align: middle;\n",
       "    }\n",
       "\n",
       "    .dataframe tbody tr th {\n",
       "        vertical-align: top;\n",
       "    }\n",
       "\n",
       "    .dataframe thead th {\n",
       "        text-align: right;\n",
       "    }\n",
       "</style>\n",
       "<table border=\"1\" class=\"dataframe\">\n",
       "  <thead>\n",
       "    <tr style=\"text-align: right;\">\n",
       "      <th></th>\n",
       "      <th>Classes</th>\n",
       "      <th>Label</th>\n",
       "    </tr>\n",
       "    <tr>\n",
       "      <th>id</th>\n",
       "      <th></th>\n",
       "      <th></th>\n",
       "    </tr>\n",
       "  </thead>\n",
       "  <tbody>\n",
       "    <tr>\n",
       "      <th>4</th>\n",
       "      <td>Quercus_Agrifolia</td>\n",
       "      <td>51</td>\n",
       "    </tr>\n",
       "    <tr>\n",
       "      <th>7</th>\n",
       "      <td>Quercus_Afares</td>\n",
       "      <td>50</td>\n",
       "    </tr>\n",
       "    <tr>\n",
       "      <th>9</th>\n",
       "      <td>Acer_Circinatum</td>\n",
       "      <td>1</td>\n",
       "    </tr>\n",
       "    <tr>\n",
       "      <th>12</th>\n",
       "      <td>Castanea_Sativa</td>\n",
       "      <td>19</td>\n",
       "    </tr>\n",
       "    <tr>\n",
       "      <th>13</th>\n",
       "      <td>Alnus_Viridis</td>\n",
       "      <td>14</td>\n",
       "    </tr>\n",
       "  </tbody>\n",
       "</table>\n",
       "</div>"
      ],
      "text/plain": [
       "              Classes  Label\n",
       "id                          \n",
       "4   Quercus_Agrifolia     51\n",
       "7      Quercus_Afares     50\n",
       "9     Acer_Circinatum      1\n",
       "12    Castanea_Sativa     19\n",
       "13      Alnus_Viridis     14"
      ]
     },
     "execution_count": 60,
     "metadata": {},
     "output_type": "execute_result"
    }
   ],
   "source": [
    "X_test = test_pre\n",
    "# To predict the labels \n",
    "y_pred = pipe.predict(X_test)\n",
    "\n",
    "data = {'Label':y_pred,'Classes':enc.inverse_transform(y_pred)}\n",
    "test_df = pd.DataFrame(data=data,index = X_test.index)\n",
    "test_df.head(5)"
   ]
  },
  {
   "cell_type": "code",
   "execution_count": 68,
   "metadata": {},
   "outputs": [
    {
     "data": {
      "text/html": [
       "<div>\n",
       "<style scoped>\n",
       "    .dataframe tbody tr th:only-of-type {\n",
       "        vertical-align: middle;\n",
       "    }\n",
       "\n",
       "    .dataframe tbody tr th {\n",
       "        vertical-align: top;\n",
       "    }\n",
       "\n",
       "    .dataframe thead th {\n",
       "        text-align: right;\n",
       "    }\n",
       "</style>\n",
       "<table border=\"1\" class=\"dataframe\">\n",
       "  <thead>\n",
       "    <tr style=\"text-align: right;\">\n",
       "      <th></th>\n",
       "      <th>Acer_Capillipes</th>\n",
       "      <th>Acer_Circinatum</th>\n",
       "      <th>Acer_Mono</th>\n",
       "      <th>Acer_Opalus</th>\n",
       "      <th>Acer_Palmatum</th>\n",
       "      <th>Acer_Pictum</th>\n",
       "      <th>Acer_Platanoids</th>\n",
       "      <th>Acer_Rubrum</th>\n",
       "      <th>Acer_Rufinerve</th>\n",
       "      <th>Acer_Saccharinum</th>\n",
       "      <th>...</th>\n",
       "      <th>Salix_Fragilis</th>\n",
       "      <th>Salix_Intergra</th>\n",
       "      <th>Sorbus_Aria</th>\n",
       "      <th>Tilia_Oliveri</th>\n",
       "      <th>Tilia_Platyphyllos</th>\n",
       "      <th>Tilia_Tomentosa</th>\n",
       "      <th>Ulmus_Bergmanniana</th>\n",
       "      <th>Viburnum_Tinus</th>\n",
       "      <th>Viburnum_x_Rhytidophylloides</th>\n",
       "      <th>Zelkova_Serrata</th>\n",
       "    </tr>\n",
       "    <tr>\n",
       "      <th>id</th>\n",
       "      <th></th>\n",
       "      <th></th>\n",
       "      <th></th>\n",
       "      <th></th>\n",
       "      <th></th>\n",
       "      <th></th>\n",
       "      <th></th>\n",
       "      <th></th>\n",
       "      <th></th>\n",
       "      <th></th>\n",
       "      <th></th>\n",
       "      <th></th>\n",
       "      <th></th>\n",
       "      <th></th>\n",
       "      <th></th>\n",
       "      <th></th>\n",
       "      <th></th>\n",
       "      <th></th>\n",
       "      <th></th>\n",
       "      <th></th>\n",
       "      <th></th>\n",
       "    </tr>\n",
       "  </thead>\n",
       "  <tbody>\n",
       "    <tr>\n",
       "      <th>4</th>\n",
       "      <td>0.003959</td>\n",
       "      <td>0.005617</td>\n",
       "      <td>0.001963</td>\n",
       "      <td>0.023968</td>\n",
       "      <td>0.003164</td>\n",
       "      <td>0.000821</td>\n",
       "      <td>0.003018</td>\n",
       "      <td>0.008735</td>\n",
       "      <td>0.003661</td>\n",
       "      <td>0.004160</td>\n",
       "      <td>...</td>\n",
       "      <td>0.001905</td>\n",
       "      <td>0.034584</td>\n",
       "      <td>0.002813</td>\n",
       "      <td>0.001753</td>\n",
       "      <td>0.003402</td>\n",
       "      <td>0.000905</td>\n",
       "      <td>0.002139</td>\n",
       "      <td>0.001143</td>\n",
       "      <td>0.005927</td>\n",
       "      <td>0.000934</td>\n",
       "    </tr>\n",
       "    <tr>\n",
       "      <th>7</th>\n",
       "      <td>0.001324</td>\n",
       "      <td>0.001256</td>\n",
       "      <td>0.002691</td>\n",
       "      <td>0.005277</td>\n",
       "      <td>0.004569</td>\n",
       "      <td>0.001409</td>\n",
       "      <td>0.041883</td>\n",
       "      <td>0.008455</td>\n",
       "      <td>0.003252</td>\n",
       "      <td>0.005841</td>\n",
       "      <td>...</td>\n",
       "      <td>0.004117</td>\n",
       "      <td>0.002583</td>\n",
       "      <td>0.003134</td>\n",
       "      <td>0.000657</td>\n",
       "      <td>0.000559</td>\n",
       "      <td>0.004559</td>\n",
       "      <td>0.003142</td>\n",
       "      <td>0.031553</td>\n",
       "      <td>0.003580</td>\n",
       "      <td>0.006551</td>\n",
       "    </tr>\n",
       "    <tr>\n",
       "      <th>9</th>\n",
       "      <td>0.000871</td>\n",
       "      <td>0.401982</td>\n",
       "      <td>0.008279</td>\n",
       "      <td>0.010597</td>\n",
       "      <td>0.038259</td>\n",
       "      <td>0.005678</td>\n",
       "      <td>0.002347</td>\n",
       "      <td>0.006885</td>\n",
       "      <td>0.003398</td>\n",
       "      <td>0.010615</td>\n",
       "      <td>...</td>\n",
       "      <td>0.007075</td>\n",
       "      <td>0.004540</td>\n",
       "      <td>0.001737</td>\n",
       "      <td>0.001067</td>\n",
       "      <td>0.004288</td>\n",
       "      <td>0.002510</td>\n",
       "      <td>0.003495</td>\n",
       "      <td>0.002453</td>\n",
       "      <td>0.006081</td>\n",
       "      <td>0.018743</td>\n",
       "    </tr>\n",
       "    <tr>\n",
       "      <th>12</th>\n",
       "      <td>0.001036</td>\n",
       "      <td>0.029334</td>\n",
       "      <td>0.003563</td>\n",
       "      <td>0.002934</td>\n",
       "      <td>0.005118</td>\n",
       "      <td>0.000882</td>\n",
       "      <td>0.002145</td>\n",
       "      <td>0.001936</td>\n",
       "      <td>0.001315</td>\n",
       "      <td>0.007703</td>\n",
       "      <td>...</td>\n",
       "      <td>0.003135</td>\n",
       "      <td>0.002407</td>\n",
       "      <td>0.003127</td>\n",
       "      <td>0.004856</td>\n",
       "      <td>0.007239</td>\n",
       "      <td>0.001564</td>\n",
       "      <td>0.049814</td>\n",
       "      <td>0.001741</td>\n",
       "      <td>0.003056</td>\n",
       "      <td>0.021641</td>\n",
       "    </tr>\n",
       "    <tr>\n",
       "      <th>13</th>\n",
       "      <td>0.004013</td>\n",
       "      <td>0.003455</td>\n",
       "      <td>0.004281</td>\n",
       "      <td>0.000320</td>\n",
       "      <td>0.002539</td>\n",
       "      <td>0.001359</td>\n",
       "      <td>0.005934</td>\n",
       "      <td>0.002288</td>\n",
       "      <td>0.006103</td>\n",
       "      <td>0.007549</td>\n",
       "      <td>...</td>\n",
       "      <td>0.004248</td>\n",
       "      <td>0.005218</td>\n",
       "      <td>0.005297</td>\n",
       "      <td>0.002330</td>\n",
       "      <td>0.011667</td>\n",
       "      <td>0.009150</td>\n",
       "      <td>0.004699</td>\n",
       "      <td>0.019988</td>\n",
       "      <td>0.012298</td>\n",
       "      <td>0.002704</td>\n",
       "    </tr>\n",
       "  </tbody>\n",
       "</table>\n",
       "<p>5 rows × 99 columns</p>\n",
       "</div>"
      ],
      "text/plain": [
       "    Acer_Capillipes  Acer_Circinatum  Acer_Mono  Acer_Opalus  Acer_Palmatum  \\\n",
       "id                                                                            \n",
       "4          0.003959         0.005617   0.001963     0.023968       0.003164   \n",
       "7          0.001324         0.001256   0.002691     0.005277       0.004569   \n",
       "9          0.000871         0.401982   0.008279     0.010597       0.038259   \n",
       "12         0.001036         0.029334   0.003563     0.002934       0.005118   \n",
       "13         0.004013         0.003455   0.004281     0.000320       0.002539   \n",
       "\n",
       "    Acer_Pictum  Acer_Platanoids  Acer_Rubrum  Acer_Rufinerve  \\\n",
       "id                                                              \n",
       "4      0.000821         0.003018     0.008735        0.003661   \n",
       "7      0.001409         0.041883     0.008455        0.003252   \n",
       "9      0.005678         0.002347     0.006885        0.003398   \n",
       "12     0.000882         0.002145     0.001936        0.001315   \n",
       "13     0.001359         0.005934     0.002288        0.006103   \n",
       "\n",
       "    Acer_Saccharinum       ...         Salix_Fragilis  Salix_Intergra  \\\n",
       "id                         ...                                          \n",
       "4           0.004160       ...               0.001905        0.034584   \n",
       "7           0.005841       ...               0.004117        0.002583   \n",
       "9           0.010615       ...               0.007075        0.004540   \n",
       "12          0.007703       ...               0.003135        0.002407   \n",
       "13          0.007549       ...               0.004248        0.005218   \n",
       "\n",
       "    Sorbus_Aria  Tilia_Oliveri  Tilia_Platyphyllos  Tilia_Tomentosa  \\\n",
       "id                                                                    \n",
       "4      0.002813       0.001753            0.003402         0.000905   \n",
       "7      0.003134       0.000657            0.000559         0.004559   \n",
       "9      0.001737       0.001067            0.004288         0.002510   \n",
       "12     0.003127       0.004856            0.007239         0.001564   \n",
       "13     0.005297       0.002330            0.011667         0.009150   \n",
       "\n",
       "    Ulmus_Bergmanniana  Viburnum_Tinus  Viburnum_x_Rhytidophylloides  \\\n",
       "id                                                                     \n",
       "4             0.002139        0.001143                      0.005927   \n",
       "7             0.003142        0.031553                      0.003580   \n",
       "9             0.003495        0.002453                      0.006081   \n",
       "12            0.049814        0.001741                      0.003056   \n",
       "13            0.004699        0.019988                      0.012298   \n",
       "\n",
       "    Zelkova_Serrata  \n",
       "id                   \n",
       "4          0.000934  \n",
       "7          0.006551  \n",
       "9          0.018743  \n",
       "12         0.021641  \n",
       "13         0.002704  \n",
       "\n",
       "[5 rows x 99 columns]"
      ]
     },
     "execution_count": 68,
     "metadata": {},
     "output_type": "execute_result"
    }
   ],
   "source": [
    "# To predict the probability of each class\n",
    "y_pred_proba = pipe.predict_proba(X_test)\n",
    "test_df = pd.DataFrame(data=y_pred_proba,columns=classes,index= X_test.index)\n",
    "test_df.head(5)"
   ]
  },
  {
   "cell_type": "code",
   "execution_count": 77,
   "metadata": {},
   "outputs": [
    {
     "data": {
      "text/plain": [
       "'Acer_Circinatum'"
      ]
     },
     "execution_count": 77,
     "metadata": {},
     "output_type": "execute_result"
    }
   ],
   "source": [
    "# Double check whether the third item is correctly classified\n",
    "test_df.iloc[2,:].idxmax()"
   ]
  },
  {
   "cell_type": "code",
   "execution_count": null,
   "metadata": {},
   "outputs": [],
   "source": []
  },
  {
   "cell_type": "code",
   "execution_count": null,
   "metadata": {},
   "outputs": [],
   "source": []
  },
  {
   "cell_type": "code",
   "execution_count": null,
   "metadata": {},
   "outputs": [],
   "source": []
  },
  {
   "cell_type": "code",
   "execution_count": null,
   "metadata": {},
   "outputs": [],
   "source": []
  },
  {
   "cell_type": "code",
   "execution_count": null,
   "metadata": {},
   "outputs": [],
   "source": []
  },
  {
   "cell_type": "code",
   "execution_count": null,
   "metadata": {},
   "outputs": [],
   "source": []
  },
  {
   "cell_type": "code",
   "execution_count": null,
   "metadata": {},
   "outputs": [],
   "source": []
  },
  {
   "cell_type": "code",
   "execution_count": null,
   "metadata": {},
   "outputs": [],
   "source": []
  },
  {
   "cell_type": "code",
   "execution_count": null,
   "metadata": {},
   "outputs": [],
   "source": []
  },
  {
   "cell_type": "code",
   "execution_count": null,
   "metadata": {},
   "outputs": [],
   "source": []
  },
  {
   "cell_type": "code",
   "execution_count": null,
   "metadata": {},
   "outputs": [],
   "source": []
  },
  {
   "cell_type": "code",
   "execution_count": null,
   "metadata": {},
   "outputs": [],
   "source": []
  },
  {
   "cell_type": "code",
   "execution_count": null,
   "metadata": {},
   "outputs": [],
   "source": []
  },
  {
   "cell_type": "code",
   "execution_count": null,
   "metadata": {},
   "outputs": [],
   "source": []
  },
  {
   "cell_type": "code",
   "execution_count": null,
   "metadata": {},
   "outputs": [],
   "source": []
  },
  {
   "cell_type": "code",
   "execution_count": null,
   "metadata": {},
   "outputs": [],
   "source": []
  },
  {
   "cell_type": "code",
   "execution_count": null,
   "metadata": {},
   "outputs": [],
   "source": []
  },
  {
   "cell_type": "code",
   "execution_count": null,
   "metadata": {},
   "outputs": [],
   "source": []
  },
  {
   "cell_type": "code",
   "execution_count": null,
   "metadata": {},
   "outputs": [],
   "source": []
  },
  {
   "cell_type": "code",
   "execution_count": null,
   "metadata": {},
   "outputs": [],
   "source": []
  },
  {
   "cell_type": "code",
   "execution_count": null,
   "metadata": {},
   "outputs": [],
   "source": []
  },
  {
   "cell_type": "code",
   "execution_count": null,
   "metadata": {},
   "outputs": [],
   "source": []
  },
  {
   "cell_type": "code",
   "execution_count": null,
   "metadata": {},
   "outputs": [],
   "source": []
  },
  {
   "cell_type": "code",
   "execution_count": null,
   "metadata": {},
   "outputs": [],
   "source": []
  },
  {
   "cell_type": "code",
   "execution_count": null,
   "metadata": {},
   "outputs": [],
   "source": []
  },
  {
   "cell_type": "code",
   "execution_count": null,
   "metadata": {},
   "outputs": [],
   "source": []
  }
 ],
 "metadata": {
  "kernelspec": {
   "display_name": "Python 3",
   "language": "python",
   "name": "python3"
  },
  "language_info": {
   "codemirror_mode": {
    "name": "ipython",
    "version": 3
   },
   "file_extension": ".py",
   "mimetype": "text/x-python",
   "name": "python",
   "nbconvert_exporter": "python",
   "pygments_lexer": "ipython3",
   "version": "3.6.4"
  }
 },
 "nbformat": 4,
 "nbformat_minor": 2
}
